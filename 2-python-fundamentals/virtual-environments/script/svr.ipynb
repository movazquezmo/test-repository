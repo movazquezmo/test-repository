{
  "cells": [
    {
      "cell_type": "markdown",
      "metadata": {
        "colab_type": "text",
        "id": "view-in-github"
      },
      "source": [
        "<a href=\"https://colab.research.google.com/github/carloslme/intro-data-engineering/blob/01-introduction/01-introduction/script/svr.ipynb\" target=\"_parent\"><img src=\"https://colab.research.google.com/assets/colab-badge.svg\" alt=\"Open In Colab\"/></a>"
      ]
    },
    {
      "cell_type": "markdown",
      "metadata": {
        "id": "nj4dSz8azxpy"
      },
      "source": [
        "# Lab: Virtual Environment in Google Colab (SVR)\n",
        "Welcome to the first Google Colab notebook of this introduction to Data Engineering course. During this lab, you will learn about the virtual environments in Google Colab, how to set up a simple script to run a Support Vector Regressor using `scikit-learn`.\n",
        "\n",
        "## Virtual Environments in Google Colab\n",
        "We can use the notebook without creating any virtual environment because due to the nature of Colab, the environment is already created and running. Just ensure you are using the appropriate library versions by installing your packages."
      ]
    },
    {
      "cell_type": "markdown",
      "metadata": {
        "id": "6XIwLleY0Msb"
      },
      "source": [
        "# Setup\n",
        "Run the cells as follows to import the required libraries."
      ]
    },
    {
      "cell_type": "code",
      "execution_count": 1,
      "metadata": {
        "colab": {
          "base_uri": "https://localhost:8080/"
        },
        "id": "7ZTz2zD5zwGX",
        "outputId": "28a10d92-145a-4a6c-8924-118fabdcbff5"
      },
      "outputs": [
        {
          "name": "stdout",
          "output_type": "stream",
          "text": [
            "Python 3.9.6\n"
          ]
        }
      ],
      "source": [
        "# Check the Python version\n",
        "!python --version"
      ]
    },
    {
      "cell_type": "markdown",
      "metadata": {
        "id": "4v1S0ZaD0pVU"
      },
      "source": [
        "Saving the requirements in a file called `requirements.txt`."
      ]
    },
    {
      "cell_type": "code",
      "execution_count": 2,
      "metadata": {
        "colab": {
          "base_uri": "https://localhost:8080/"
        },
        "id": "kx5pgUfC0g1R",
        "outputId": "dbb97330-730f-44f3-ec62-66fd408bec9f"
      },
      "outputs": [
        {
          "name": "stdout",
          "output_type": "stream",
          "text": [
            "Writing requirements.txt\n"
          ]
        }
      ],
      "source": [
        "%%writefile requirements.txt\n",
        "scikit-learn==1.2.2"
      ]
    },
    {
      "cell_type": "markdown",
      "metadata": {
        "id": "VlB0nt8O0uh9"
      },
      "source": [
        "Install the libraries"
      ]
    },
    {
      "cell_type": "code",
      "execution_count": 4,
      "metadata": {
        "colab": {
          "base_uri": "https://localhost:8080/"
        },
        "id": "pfK8jt8J0w0N",
        "outputId": "fe112cdb-fe8f-457f-c179-0ee638701d82"
      },
      "outputs": [
        {
          "name": "stdout",
          "output_type": "stream",
          "text": [
            "Requirement already satisfied: scikit-learn==1.2.2 in /Users/carloslme/Documents/GitHub/marcos-course-de/environment/lib/python3.9/site-packages (from -r requirements.txt (line 1)) (1.2.2)\n",
            "Requirement already satisfied: scipy>=1.3.2 in /Users/carloslme/Documents/GitHub/marcos-course-de/environment/lib/python3.9/site-packages (from scikit-learn==1.2.2->-r requirements.txt (line 1)) (1.11.2)\n",
            "Requirement already satisfied: numpy>=1.17.3 in /Users/carloslme/Documents/GitHub/marcos-course-de/environment/lib/python3.9/site-packages (from scikit-learn==1.2.2->-r requirements.txt (line 1)) (1.25.2)\n",
            "Requirement already satisfied: threadpoolctl>=2.0.0 in /Users/carloslme/Documents/GitHub/marcos-course-de/environment/lib/python3.9/site-packages (from scikit-learn==1.2.2->-r requirements.txt (line 1)) (3.2.0)\n",
            "Requirement already satisfied: joblib>=1.1.1 in /Users/carloslme/Documents/GitHub/marcos-course-de/environment/lib/python3.9/site-packages (from scikit-learn==1.2.2->-r requirements.txt (line 1)) (1.3.2)\n",
            "\u001b[33mWARNING: You are using pip version 21.2.4; however, version 23.2.1 is available.\n",
            "You should consider upgrading via the '/Users/carloslme/Documents/GitHub/marcos-course-de/environment/bin/python3 -m pip install --upgrade pip' command.\u001b[0m\n"
          ]
        }
      ],
      "source": [
        "!pip install -r requirements.txt"
      ]
    },
    {
      "cell_type": "markdown",
      "metadata": {
        "id": "z9dvV-Cc06hZ"
      },
      "source": [
        "Import the Support Vector Machine library"
      ]
    },
    {
      "cell_type": "code",
      "execution_count": 6,
      "metadata": {
        "id": "vKJKQ5yP0W4O"
      },
      "outputs": [],
      "source": [
        "from sklearn import svm"
      ]
    },
    {
      "cell_type": "markdown",
      "metadata": {
        "id": "-dApnG380_kI"
      },
      "source": [
        "# Train a regressor"
      ]
    },
    {
      "cell_type": "markdown",
      "metadata": {
        "id": "5wvOQSjk1GwY"
      },
      "source": [
        "The method of Support Vector Classification can be extended to solve regression problems. This method is called `Support Vector Regression`.\n",
        "\n",
        "There are three different implementations of Support Vector Regression: `SVR`, `NuSVR` and `LinearSVR`. We will use only `SVR`.\n",
        "\n",
        "As with classification classes, the fit method will take as argument vectors `X`, `y`, only that in this case y is expected to have floating point values instead of integer values:"
      ]
    },
    {
      "cell_type": "code",
      "execution_count": 7,
      "metadata": {
        "colab": {
          "base_uri": "https://localhost:8080/",
          "height": 74
        },
        "id": "SxB8nWnU0daD",
        "outputId": "8a606c5c-d33d-40a0-fbeb-ca56dbbac747"
      },
      "outputs": [
        {
          "data": {
            "text/html": [
              "<style>#sk-container-id-1 {color: black;background-color: white;}#sk-container-id-1 pre{padding: 0;}#sk-container-id-1 div.sk-toggleable {background-color: white;}#sk-container-id-1 label.sk-toggleable__label {cursor: pointer;display: block;width: 100%;margin-bottom: 0;padding: 0.3em;box-sizing: border-box;text-align: center;}#sk-container-id-1 label.sk-toggleable__label-arrow:before {content: \"▸\";float: left;margin-right: 0.25em;color: #696969;}#sk-container-id-1 label.sk-toggleable__label-arrow:hover:before {color: black;}#sk-container-id-1 div.sk-estimator:hover label.sk-toggleable__label-arrow:before {color: black;}#sk-container-id-1 div.sk-toggleable__content {max-height: 0;max-width: 0;overflow: hidden;text-align: left;background-color: #f0f8ff;}#sk-container-id-1 div.sk-toggleable__content pre {margin: 0.2em;color: black;border-radius: 0.25em;background-color: #f0f8ff;}#sk-container-id-1 input.sk-toggleable__control:checked~div.sk-toggleable__content {max-height: 200px;max-width: 100%;overflow: auto;}#sk-container-id-1 input.sk-toggleable__control:checked~label.sk-toggleable__label-arrow:before {content: \"▾\";}#sk-container-id-1 div.sk-estimator input.sk-toggleable__control:checked~label.sk-toggleable__label {background-color: #d4ebff;}#sk-container-id-1 div.sk-label input.sk-toggleable__control:checked~label.sk-toggleable__label {background-color: #d4ebff;}#sk-container-id-1 input.sk-hidden--visually {border: 0;clip: rect(1px 1px 1px 1px);clip: rect(1px, 1px, 1px, 1px);height: 1px;margin: -1px;overflow: hidden;padding: 0;position: absolute;width: 1px;}#sk-container-id-1 div.sk-estimator {font-family: monospace;background-color: #f0f8ff;border: 1px dotted black;border-radius: 0.25em;box-sizing: border-box;margin-bottom: 0.5em;}#sk-container-id-1 div.sk-estimator:hover {background-color: #d4ebff;}#sk-container-id-1 div.sk-parallel-item::after {content: \"\";width: 100%;border-bottom: 1px solid gray;flex-grow: 1;}#sk-container-id-1 div.sk-label:hover label.sk-toggleable__label {background-color: #d4ebff;}#sk-container-id-1 div.sk-serial::before {content: \"\";position: absolute;border-left: 1px solid gray;box-sizing: border-box;top: 0;bottom: 0;left: 50%;z-index: 0;}#sk-container-id-1 div.sk-serial {display: flex;flex-direction: column;align-items: center;background-color: white;padding-right: 0.2em;padding-left: 0.2em;position: relative;}#sk-container-id-1 div.sk-item {position: relative;z-index: 1;}#sk-container-id-1 div.sk-parallel {display: flex;align-items: stretch;justify-content: center;background-color: white;position: relative;}#sk-container-id-1 div.sk-item::before, #sk-container-id-1 div.sk-parallel-item::before {content: \"\";position: absolute;border-left: 1px solid gray;box-sizing: border-box;top: 0;bottom: 0;left: 50%;z-index: -1;}#sk-container-id-1 div.sk-parallel-item {display: flex;flex-direction: column;z-index: 1;position: relative;background-color: white;}#sk-container-id-1 div.sk-parallel-item:first-child::after {align-self: flex-end;width: 50%;}#sk-container-id-1 div.sk-parallel-item:last-child::after {align-self: flex-start;width: 50%;}#sk-container-id-1 div.sk-parallel-item:only-child::after {width: 0;}#sk-container-id-1 div.sk-dashed-wrapped {border: 1px dashed gray;margin: 0 0.4em 0.5em 0.4em;box-sizing: border-box;padding-bottom: 0.4em;background-color: white;}#sk-container-id-1 div.sk-label label {font-family: monospace;font-weight: bold;display: inline-block;line-height: 1.2em;}#sk-container-id-1 div.sk-label-container {text-align: center;}#sk-container-id-1 div.sk-container {/* jupyter's `normalize.less` sets `[hidden] { display: none; }` but bootstrap.min.css set `[hidden] { display: none !important; }` so we also need the `!important` here to be able to override the default hidden behavior on the sphinx rendered scikit-learn.org. See: https://github.com/scikit-learn/scikit-learn/issues/21755 */display: inline-block !important;position: relative;}#sk-container-id-1 div.sk-text-repr-fallback {display: none;}</style><div id=\"sk-container-id-1\" class=\"sk-top-container\"><div class=\"sk-text-repr-fallback\"><pre>SVR()</pre><b>In a Jupyter environment, please rerun this cell to show the HTML representation or trust the notebook. <br />On GitHub, the HTML representation is unable to render, please try loading this page with nbviewer.org.</b></div><div class=\"sk-container\" hidden><div class=\"sk-item\"><div class=\"sk-estimator sk-toggleable\"><input class=\"sk-toggleable__control sk-hidden--visually\" id=\"sk-estimator-id-1\" type=\"checkbox\" checked><label for=\"sk-estimator-id-1\" class=\"sk-toggleable__label sk-toggleable__label-arrow\">SVR</label><div class=\"sk-toggleable__content\"><pre>SVR()</pre></div></div></div></div></div>"
            ],
            "text/plain": [
              "SVR()"
            ]
          },
          "execution_count": 7,
          "metadata": {},
          "output_type": "execute_result"
        }
      ],
      "source": [
        "X = [[0, 0], [2, 2]]\n",
        "y = [0.5, 2.5]\n",
        "regr = svm.SVR()\n",
        "regr.fit(X, y)"
      ]
    },
    {
      "cell_type": "markdown",
      "metadata": {
        "id": "O9wTkcs-1jxk"
      },
      "source": [
        "Predict dummy values"
      ]
    },
    {
      "cell_type": "code",
      "execution_count": 8,
      "metadata": {
        "colab": {
          "base_uri": "https://localhost:8080/"
        },
        "id": "C5CV6NWn1gKO",
        "outputId": "01cc5c7c-26ae-4ef6-9cde-7896984e7041"
      },
      "outputs": [
        {
          "name": "stdout",
          "output_type": "stream",
          "text": [
            "[1.5]\n"
          ]
        }
      ],
      "source": [
        "print(regr.predict([[1, 1]]))"
      ]
    },
    {
      "cell_type": "markdown",
      "metadata": {
        "id": "VNno4mk61qXb"
      },
      "source": [
        "**You have finished this lab!**\n",
        "\n",
        "Having finished the lab, you should have a better understanding about virtual environments and how to use Google Colab.\n",
        "\n",
        "You will be using this the things learned here in the next sections.\n",
        "\n"
      ]
    },
    {
      "cell_type": "markdown",
      "metadata": {
        "id": "Vp_0Fh571pBd"
      },
      "source": [
        "# Resources\n",
        "[Support Vector Regression](https://scikit-learn.org/stable/modules/svm.html#regression)"
      ]
    },
    {
      "cell_type": "code",
      "execution_count": null,
      "metadata": {
        "id": "SaP1nPvy1m2z"
      },
      "outputs": [],
      "source": []
    }
  ],
  "metadata": {
    "colab": {
      "authorship_tag": "ABX9TyOr/osY8E7EzotcmWXtlM6M",
      "include_colab_link": true,
      "provenance": []
    },
    "kernelspec": {
      "display_name": "Python 3",
      "name": "python3"
    },
    "language_info": {
      "codemirror_mode": {
        "name": "ipython",
        "version": 3
      },
      "file_extension": ".py",
      "mimetype": "text/x-python",
      "name": "python",
      "nbconvert_exporter": "python",
      "pygments_lexer": "ipython3",
      "version": "3.9.6"
    }
  },
  "nbformat": 4,
  "nbformat_minor": 0
}
